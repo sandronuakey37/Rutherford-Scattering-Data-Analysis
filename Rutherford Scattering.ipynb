{
 "cells": [
  {
   "cell_type": "code",
   "execution_count": 1,
   "id": "12caac49",
   "metadata": {},
   "outputs": [],
   "source": [
    "import math\n",
    "import numpy as np\n",
    "import matplotlib.pyplot as plt\n",
    "import statistics\n",
    "import pandas as pd\n",
    "import csv\n",
    "import os\n",
    "\n",
    "from scipy.signal import find_peaks"
   ]
  },
  {
   "cell_type": "code",
   "execution_count": 2,
   "id": "d20ae28a",
   "metadata": {},
   "outputs": [],
   "source": [
    "#Function to compute K-factors, input is theta values in radians\n",
    "def getKFactor(theta):\n",
    "    #Declaring constants: both M values are in amu\n",
    "    M_0 = 4\n",
    "    M_1 = 197\n",
    "    K = M_0 * math.cos(theta)\n",
    "    K = K + np.sqrt((M_1**2) - ((M_0**2) * (math.sin(theta)**2)))\n",
    "    K = K / (M_0 + M_1)\n",
    "    K = K**2\n",
    "    print(K)"
   ]
  },
  {
   "cell_type": "code",
   "execution_count": 3,
   "id": "b508d968",
   "metadata": {},
   "outputs": [],
   "source": [
    "#Funciton to calculate the expected differential cross-section, input is theta values in raidans\n",
    "def crossSection(theta, M_1, Z_1):\n",
    "    M_0 = 4\n",
    "    E_0 = 4\n",
    "    Z_0 = 2\n",
    "    cross = ((Z_0 * Z_1) / E_0)\n",
    "    cross = cross**2\n",
    "    cross *= 1.296\n",
    "    cross2 = (1 / (math.sin(theta/2)**4))\n",
    "    cross2 -= (2 * (M_0/M_1)**2)\n",
    "    cross = cross * cross2\n",
    "    return cross"
   ]
  },
  {
   "cell_type": "code",
   "execution_count": 18,
   "id": "9b2dde19",
   "metadata": {},
   "outputs": [
    {
     "name": "stdout",
     "output_type": "stream",
     "text": [
      "Precision due to angle:  391.64324302052637\n",
      "K-Factors:\n",
      "0.9945740377085508\n",
      "0.9905438375999178\n",
      "0.9855976919240038\n",
      "0.9798984718984659\n",
      "0.973631071272633\n",
      "0.9636041787127098\n",
      "0.9534504123184302\n",
      "0.9438573748779785\n"
     ]
    }
   ],
   "source": [
    "#Printing K-factos\n",
    "exp_theta = np.array([30,40,50,60,70,85,100,115])\n",
    "exp_theta = np.radians(exp_theta)\n",
    "weightedavg1 = (crossSection(np.radians(29), 197, 79) * 0.8) + (crossSection(np.radians(29), 108, 47) * 0.15) + (crossSection(np.radians(29), 64, 29) * 0.05)\n",
    "weightedavg2 = (crossSection(np.radians(31), 197, 79) * 0.8) + (crossSection(np.radians(31), 108, 47) * 0.15) + (crossSection(np.radians(31), 64, 29) * 0.05)\n",
    "angle_err = ((weightedavg1 + weightedavg2)/2) * (10**-3)\n",
    "print(\"Precision due to angle: \", angle_err)\n",
    "\n",
    "print(\"K-Factors:\")\n",
    "for i in range(len(exp_theta)):\n",
    "    getKFactor(exp_theta[i])"
   ]
  },
  {
   "cell_type": "code",
   "execution_count": 14,
   "id": "afec0b49",
   "metadata": {},
   "outputs": [
    {
     "name": "stdout",
     "output_type": "stream",
     "text": [
      "Theoretical Cross Section:  387.4583264980811\n",
      "Error/Precision:  18.065179160291173\n",
      "Theoretical Cross Section:  127.05717553630843\n",
      "Error/Precision:  5.9240283451953495\n",
      "Theoretical Cross Section:  54.50106686593536\n",
      "Error/Precision:  2.5411145037370346\n",
      "Theoretical Cross Section:  27.81664597848671\n",
      "Error/Precision:  1.296958795494951\n",
      "Theoretical Cross Section:  16.06200493745094\n",
      "Error/Precision:  0.7489010426006669\n",
      "Theoretical Cross Section:  8.344267112116308\n",
      "Error/Precision:  0.38906308289077074\n",
      "Theoretical Cross Section:  5.047156225782973\n",
      "Error/Precision:  0.23533595707275115\n",
      "Theoretical Cross Section:  3.434597031724698\n",
      "Error/Precision:  0.16015071204705494\n"
     ]
    }
   ],
   "source": [
    "#Elemental Fraction cross-section calculations\n",
    "#Gold\n",
    "#There is a precision on the percentages of 5% which translates to the avgerage\n",
    "terr = []\n",
    "crossGold = np.array([0.0,0.0,0.0,0.0,0.0,0.0,0.0,0.0])\n",
    "for i in range(len(exp_theta)):\n",
    "    value = crossSection(exp_theta[i], 197, 79)\n",
    "    crossGold[i] = value\n",
    "    #print(\"For gold\", crossGold[i])\n",
    "\n",
    "#Silver\n",
    "crossSilver = np.array([0.0,0.0,0.0,0.0,0.0,0.0,0.0,0.0])\n",
    "for i in range(len(exp_theta)):\n",
    "    value = crossSection(exp_theta[i], 108, 47)\n",
    "    crossSilver[i] = value\n",
    "#Copper\n",
    "crossCopper = np.array([0.0,0.0,0.0,0.0,0.0,0.0,0.0,0.0])\n",
    "for i in range (len(exp_theta)):\n",
    "    value = crossSection(exp_theta[i], 64, 29)\n",
    "    crossCopper[i] = value\n",
    "#Weighted average\n",
    "avgCross = np.array([0.0,0.0,0.0,0.0,0.0,0.0,0.0,0.0])\n",
    "for i in range(len(exp_theta)):\n",
    "    total = (0.8*crossGold[i]) + (0.15*crossSilver[i]) + (0.05*crossCopper[i])\n",
    "    total_err = ((crossGold[i] * 0.05 * 0.8)**2) + ((crossSilver[i] * 0.05 * 0.15)**2) + ((crossCopper[i] * 0.05 * 0.05)**2)\n",
    "    total_err = np.sqrt(total_err)\n",
    "    terr.append((total_err * (10**-3)))\n",
    "    avgCross[i] = total * (10**-3)\n",
    "    print(\"Theoretical Cross Section: \", avgCross[i])\n",
    "    print(\"Error/Precision: \" , terr[i])"
   ]
  },
  {
   "cell_type": "code",
   "execution_count": 6,
   "id": "5e651fce",
   "metadata": {},
   "outputs": [
    {
     "data": {
      "text/plain": [
       "<matplotlib.collections.PathCollection at 0x7fb1838f4400>"
      ]
     },
     "execution_count": 6,
     "metadata": {},
     "output_type": "execute_result"
    },
    {
     "data": {
      "image/png": "[encoded data removed]",
      "text/plain": [
       "<Figure size 720x720 with 1 Axes>"
      ]
     },
     "metadata": {
      "needs_background": "light"
     },
     "output_type": "display_data"
    }
   ],
   "source": [
    "plt.figure(9, figsize = (10, 10))\n",
    "legendList = [\"Gold\", \"Silver\", \"Copper\"]\n",
    "plt.legend(legendList)\n",
    "plt.yscale(\"log\")\n",
    "plt.scatter(exp_theta, avgCross)\n",
    "\n",
    "##plt.scatter(exp_theta, crossGold)\n",
    "##plt.scatter(exp_theta, crossSilver)\n",
    "##plt.scatter(exp_theta, crossCopper)"
   ]
  },
  {
   "cell_type": "code",
   "execution_count": null,
   "id": "fcf4232f",
   "metadata": {},
   "outputs": [],
   "source": []
  },
  {
   "cell_type": "code",
   "execution_count": 7,
   "id": "4e0dc812",
   "metadata": {},
   "outputs": [
    {
     "name": "stdout",
     "output_type": "stream",
     "text": [
      "568.3090455724436 In b/sr\n",
      "161.75161939882096 In b/sr\n",
      "66.18147784420088 In b/sr\n",
      "31.217995231678245 In b/sr\n",
      "17.447053949428195 In b/sr\n",
      "8.863175037728666 In b/sr\n",
      "4.800032718009575 In b/sr\n",
      "2.718772675443143 In b/sr\n",
      "20.84158198675495\n"
     ]
    }
   ],
   "source": [
    "#Calculating measured cross-section\n",
    "# = N_s/ N_0 * del_omega * n_1\n",
    "N_s = np.array([566938,166681,62757,30116,18114,13053,7590,6557]) #N_s * RT/LT\n",
    "beamCurrent = np.array([182,188,173,176,178,190,204,220]) #total time\n",
    "beamCurrent = beamCurrent * 0.0025 #Beam current in microcoulomb\n",
    "N_0 = beamCurrent / (2*(1.6*10**(-13))) #Dividing by charge of proton\n",
    "del_omega = 8.77*10**(-4)\n",
    "n_1 = np.array([8*10**17,8*10**17,8*10**17,8*10**17, 8.513*10**17,1.1313*10**18,1.1313*10**18,1.6*10**18])\n",
    "measuredCross = np.array([0.0,0.0,0.0,0.0,0.0,0.0,0.0,0.0])\n",
    "for i in range(len(N_s)):\n",
    "    measuredCross[i] = N_s[i]/(N_0[i] * del_omega * n_1[i])\n",
    "    measuredCross[i] = measuredCross[i] * 10**24\n",
    "    print(measuredCross[i], \"In b/sr\")"
   ]
  },
  {
   "cell_type": "code",
   "execution_count": 15,
   "id": "312b5979",
   "metadata": {},
   "outputs": [
    {
     "name": "stdout",
     "output_type": "stream",
     "text": [
      "Percent error is:  46.67617307619227\n",
      "Percent error is:  27.306166468810012\n",
      "Percent error is:  21.43152721578392\n",
      "Percent error is:  12.227747571803315\n",
      "Percent error is:  8.623139000211664\n",
      "Percent error is:  6.2187357935711045\n",
      "Percent error is:  4.896292025021697\n",
      "Percent error is:  20.84158198675495\n"
     ]
    },
    {
     "data": {
      "text/plain": [
       "<matplotlib.collections.PathCollection at 0x7fb1608f9d60>"
      ]
     },
     "execution_count": 15,
     "metadata": {},
     "output_type": "execute_result"
    },
    {
     "data": {
      "image/png": "[encoded data removed]",
      "text/plain": [
       "<Figure size 720x720 with 1 Axes>"
      ]
     },
     "metadata": {
      "needs_background": "light"
     },
     "output_type": "display_data"
    }
   ],
   "source": [
    "#Calculating Percent error and plotting both graphs\n",
    "#Precision of sqrt(N_s) which ius statistical precision.\n",
    "#precision on the del_omega from r, and error on the target denisty of 8*10^17\n",
    "err = np.array([0.0,0.0,0.0,0.0,0.0,0.0,0.0, 0.0])\n",
    "for i in range(len(exp_theta)):\n",
    "    err[i] = abs((avgCross[i] - measuredCross[i])/avgCross[i]) * 100\n",
    "    print(\"Percent error is: \", err[i])\n",
    "plt.figure(9, figsize = (10, 10))\n",
    "legendList = [\"Theoretical\", \"Experimental\"]\n",
    "plt.legend(legendList)\n",
    "plt.yscale(\"log\")\n",
    "plt.scatter(exp_theta, avgCross)\n",
    "plt.scatter(exp_theta, measuredCross)"
   ]
  },
  {
   "cell_type": "code",
   "execution_count": null,
   "id": "f887e1ab",
   "metadata": {},
   "outputs": [],
   "source": []
  }
 ],
 "metadata": {
  "kernelspec": {
   "display_name": "Python 3 (ipykernel)",
   "language": "python",
   "name": "python3"
  },
  "language_info": {
   "codemirror_mode": {
    "name": "ipython",
    "version": 3
   },
   "file_extension": ".py",
   "mimetype": "text/x-python",
   "name": "python",
   "nbconvert_exporter": "python",
   "pygments_lexer": "ipython3",
   "version": "3.9.7"
  }
 },
 "nbformat": 4,
 "nbformat_minor": 5
}
